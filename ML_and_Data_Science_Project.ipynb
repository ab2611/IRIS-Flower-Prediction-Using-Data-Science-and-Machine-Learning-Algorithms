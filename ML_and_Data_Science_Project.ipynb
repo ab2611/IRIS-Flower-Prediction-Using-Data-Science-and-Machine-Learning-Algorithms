{
 "cells": [
  {
   "cell_type": "code",
   "execution_count": 1,
   "id": "0e2cff12-92fc-4059-94c3-fa522c8be162",
   "metadata": {},
   "outputs": [],
   "source": [
    "import pandas as pd\n",
    "from sklearn.datasets import load_iris"
   ]
  },
  {
   "cell_type": "markdown",
   "id": "9bd3d136-4fe3-46c4-9b28-96993d689c74",
   "metadata": {},
   "source": [
    "<h1> Data Importing\n"
   ]
  },
  {
   "cell_type": "code",
   "execution_count": 2,
   "id": "d53ebd68-ae1f-4108-9275-74a1d06143da",
   "metadata": {},
   "outputs": [],
   "source": [
    "iris = load_iris()"
   ]
  },
  {
   "cell_type": "code",
   "execution_count": 3,
   "id": "60601f4e-6b0e-448e-a9e2-3197ddf04f8b",
   "metadata": {},
   "outputs": [],
   "source": [
    "feature_name=iris.feature_names"
   ]
  },
  {
   "cell_type": "code",
   "execution_count": 4,
   "id": "9694eafc-1adb-404f-8fc1-858479456d9d",
   "metadata": {},
   "outputs": [],
   "source": [
    "species=iris.target_names"
   ]
  },
  {
   "cell_type": "markdown",
   "id": "c1959533-5c57-4502-9926-327eeb37c431",
   "metadata": {},
   "source": [
    "<h1> Data Cleaning and Data Formatting"
   ]
  },
  {
   "cell_type": "code",
   "execution_count": 5,
   "id": "76ab2bd6-a956-4126-a608-ff7691e67617",
   "metadata": {},
   "outputs": [
    {
     "data": {
      "text/html": [
       "<div>\n",
       "<style scoped>\n",
       "    .dataframe tbody tr th:only-of-type {\n",
       "        vertical-align: middle;\n",
       "    }\n",
       "\n",
       "    .dataframe tbody tr th {\n",
       "        vertical-align: top;\n",
       "    }\n",
       "\n",
       "    .dataframe thead th {\n",
       "        text-align: right;\n",
       "    }\n",
       "</style>\n",
       "<table border=\"1\" class=\"dataframe\">\n",
       "  <thead>\n",
       "    <tr style=\"text-align: right;\">\n",
       "      <th></th>\n",
       "      <th>sepal length (cm)</th>\n",
       "      <th>sepal width (cm)</th>\n",
       "      <th>petal length (cm)</th>\n",
       "      <th>petal width (cm)</th>\n",
       "    </tr>\n",
       "  </thead>\n",
       "  <tbody>\n",
       "    <tr>\n",
       "      <th>0</th>\n",
       "      <td>5.1</td>\n",
       "      <td>3.5</td>\n",
       "      <td>1.4</td>\n",
       "      <td>0.2</td>\n",
       "    </tr>\n",
       "    <tr>\n",
       "      <th>1</th>\n",
       "      <td>4.9</td>\n",
       "      <td>3.0</td>\n",
       "      <td>1.4</td>\n",
       "      <td>0.2</td>\n",
       "    </tr>\n",
       "    <tr>\n",
       "      <th>2</th>\n",
       "      <td>4.7</td>\n",
       "      <td>3.2</td>\n",
       "      <td>1.3</td>\n",
       "      <td>0.2</td>\n",
       "    </tr>\n",
       "    <tr>\n",
       "      <th>3</th>\n",
       "      <td>4.6</td>\n",
       "      <td>3.1</td>\n",
       "      <td>1.5</td>\n",
       "      <td>0.2</td>\n",
       "    </tr>\n",
       "    <tr>\n",
       "      <th>4</th>\n",
       "      <td>5.0</td>\n",
       "      <td>3.6</td>\n",
       "      <td>1.4</td>\n",
       "      <td>0.2</td>\n",
       "    </tr>\n",
       "  </tbody>\n",
       "</table>\n",
       "</div>"
      ],
      "text/plain": [
       "   sepal length (cm)  sepal width (cm)  petal length (cm)  petal width (cm)\n",
       "0                5.1               3.5                1.4               0.2\n",
       "1                4.9               3.0                1.4               0.2\n",
       "2                4.7               3.2                1.3               0.2\n",
       "3                4.6               3.1                1.5               0.2\n",
       "4                5.0               3.6                1.4               0.2"
      ]
     },
     "execution_count": 5,
     "metadata": {},
     "output_type": "execute_result"
    }
   ],
   "source": [
    "df=pd.DataFrame(iris.data,columns=iris.feature_names)\n",
    "df_i=df\n",
    "df.head()"
   ]
  },
  {
   "cell_type": "code",
   "execution_count": 6,
   "id": "536b41fb-4a45-4da2-8287-8374061eba5f",
   "metadata": {},
   "outputs": [
    {
     "data": {
      "text/html": [
       "<div>\n",
       "<style scoped>\n",
       "    .dataframe tbody tr th:only-of-type {\n",
       "        vertical-align: middle;\n",
       "    }\n",
       "\n",
       "    .dataframe tbody tr th {\n",
       "        vertical-align: top;\n",
       "    }\n",
       "\n",
       "    .dataframe thead th {\n",
       "        text-align: right;\n",
       "    }\n",
       "</style>\n",
       "<table border=\"1\" class=\"dataframe\">\n",
       "  <thead>\n",
       "    <tr style=\"text-align: right;\">\n",
       "      <th></th>\n",
       "      <th>sepal length (cm)</th>\n",
       "      <th>sepal width (cm)</th>\n",
       "      <th>petal length (cm)</th>\n",
       "      <th>petal width (cm)</th>\n",
       "      <th>target</th>\n",
       "    </tr>\n",
       "  </thead>\n",
       "  <tbody>\n",
       "    <tr>\n",
       "      <th>0</th>\n",
       "      <td>5.1</td>\n",
       "      <td>3.5</td>\n",
       "      <td>1.4</td>\n",
       "      <td>0.2</td>\n",
       "      <td>0</td>\n",
       "    </tr>\n",
       "    <tr>\n",
       "      <th>1</th>\n",
       "      <td>4.9</td>\n",
       "      <td>3.0</td>\n",
       "      <td>1.4</td>\n",
       "      <td>0.2</td>\n",
       "      <td>0</td>\n",
       "    </tr>\n",
       "    <tr>\n",
       "      <th>2</th>\n",
       "      <td>4.7</td>\n",
       "      <td>3.2</td>\n",
       "      <td>1.3</td>\n",
       "      <td>0.2</td>\n",
       "      <td>0</td>\n",
       "    </tr>\n",
       "    <tr>\n",
       "      <th>3</th>\n",
       "      <td>4.6</td>\n",
       "      <td>3.1</td>\n",
       "      <td>1.5</td>\n",
       "      <td>0.2</td>\n",
       "      <td>0</td>\n",
       "    </tr>\n",
       "    <tr>\n",
       "      <th>4</th>\n",
       "      <td>5.0</td>\n",
       "      <td>3.6</td>\n",
       "      <td>1.4</td>\n",
       "      <td>0.2</td>\n",
       "      <td>0</td>\n",
       "    </tr>\n",
       "  </tbody>\n",
       "</table>\n",
       "</div>"
      ],
      "text/plain": [
       "   sepal length (cm)  sepal width (cm)  petal length (cm)  petal width (cm)  \\\n",
       "0                5.1               3.5                1.4               0.2   \n",
       "1                4.9               3.0                1.4               0.2   \n",
       "2                4.7               3.2                1.3               0.2   \n",
       "3                4.6               3.1                1.5               0.2   \n",
       "4                5.0               3.6                1.4               0.2   \n",
       "\n",
       "   target  \n",
       "0       0  \n",
       "1       0  \n",
       "2       0  \n",
       "3       0  \n",
       "4       0  "
      ]
     },
     "execution_count": 6,
     "metadata": {},
     "output_type": "execute_result"
    }
   ],
   "source": [
    "df['target']=iris.target\n",
    "\n",
    "df.head()"
   ]
  },
  {
   "cell_type": "code",
   "execution_count": 7,
   "id": "763ad76c-506a-4db9-ba2e-4af83af30f93",
   "metadata": {},
   "outputs": [
    {
     "data": {
      "text/html": [
       "<div>\n",
       "<style scoped>\n",
       "    .dataframe tbody tr th:only-of-type {\n",
       "        vertical-align: middle;\n",
       "    }\n",
       "\n",
       "    .dataframe tbody tr th {\n",
       "        vertical-align: top;\n",
       "    }\n",
       "\n",
       "    .dataframe thead th {\n",
       "        text-align: right;\n",
       "    }\n",
       "</style>\n",
       "<table border=\"1\" class=\"dataframe\">\n",
       "  <thead>\n",
       "    <tr style=\"text-align: right;\">\n",
       "      <th></th>\n",
       "      <th>sepal length (cm)</th>\n",
       "      <th>sepal width (cm)</th>\n",
       "      <th>petal length (cm)</th>\n",
       "      <th>petal width (cm)</th>\n",
       "      <th>target</th>\n",
       "      <th>flower_name</th>\n",
       "    </tr>\n",
       "  </thead>\n",
       "  <tbody>\n",
       "    <tr>\n",
       "      <th>0</th>\n",
       "      <td>5.1</td>\n",
       "      <td>3.5</td>\n",
       "      <td>1.4</td>\n",
       "      <td>0.2</td>\n",
       "      <td>0</td>\n",
       "      <td>setosa</td>\n",
       "    </tr>\n",
       "    <tr>\n",
       "      <th>1</th>\n",
       "      <td>4.9</td>\n",
       "      <td>3.0</td>\n",
       "      <td>1.4</td>\n",
       "      <td>0.2</td>\n",
       "      <td>0</td>\n",
       "      <td>setosa</td>\n",
       "    </tr>\n",
       "    <tr>\n",
       "      <th>2</th>\n",
       "      <td>4.7</td>\n",
       "      <td>3.2</td>\n",
       "      <td>1.3</td>\n",
       "      <td>0.2</td>\n",
       "      <td>0</td>\n",
       "      <td>setosa</td>\n",
       "    </tr>\n",
       "    <tr>\n",
       "      <th>3</th>\n",
       "      <td>4.6</td>\n",
       "      <td>3.1</td>\n",
       "      <td>1.5</td>\n",
       "      <td>0.2</td>\n",
       "      <td>0</td>\n",
       "      <td>setosa</td>\n",
       "    </tr>\n",
       "    <tr>\n",
       "      <th>4</th>\n",
       "      <td>5.0</td>\n",
       "      <td>3.6</td>\n",
       "      <td>1.4</td>\n",
       "      <td>0.2</td>\n",
       "      <td>0</td>\n",
       "      <td>setosa</td>\n",
       "    </tr>\n",
       "  </tbody>\n",
       "</table>\n",
       "</div>"
      ],
      "text/plain": [
       "   sepal length (cm)  sepal width (cm)  petal length (cm)  petal width (cm)  \\\n",
       "0                5.1               3.5                1.4               0.2   \n",
       "1                4.9               3.0                1.4               0.2   \n",
       "2                4.7               3.2                1.3               0.2   \n",
       "3                4.6               3.1                1.5               0.2   \n",
       "4                5.0               3.6                1.4               0.2   \n",
       "\n",
       "   target flower_name  \n",
       "0       0      setosa  \n",
       "1       0      setosa  \n",
       "2       0      setosa  \n",
       "3       0      setosa  \n",
       "4       0      setosa  "
      ]
     },
     "execution_count": 7,
     "metadata": {},
     "output_type": "execute_result"
    }
   ],
   "source": [
    "df['flower_name'] =df.target.apply(lambda x: iris.target_names[x])\n",
    "df.head()"
   ]
  },
  {
   "cell_type": "code",
   "execution_count": 8,
   "id": "f63f4c7d-660b-4f5d-b5c6-4dfa2bda1294",
   "metadata": {},
   "outputs": [
    {
     "data": {
      "text/html": [
       "<div>\n",
       "<style scoped>\n",
       "    .dataframe tbody tr th:only-of-type {\n",
       "        vertical-align: middle;\n",
       "    }\n",
       "\n",
       "    .dataframe tbody tr th {\n",
       "        vertical-align: top;\n",
       "    }\n",
       "\n",
       "    .dataframe thead th {\n",
       "        text-align: right;\n",
       "    }\n",
       "</style>\n",
       "<table border=\"1\" class=\"dataframe\">\n",
       "  <thead>\n",
       "    <tr style=\"text-align: right;\">\n",
       "      <th></th>\n",
       "      <th>sepal length (cm)</th>\n",
       "      <th>sepal width (cm)</th>\n",
       "      <th>petal length (cm)</th>\n",
       "      <th>petal width (cm)</th>\n",
       "      <th>target</th>\n",
       "      <th>flower_name</th>\n",
       "    </tr>\n",
       "  </thead>\n",
       "  <tbody>\n",
       "    <tr>\n",
       "      <th>50</th>\n",
       "      <td>7.0</td>\n",
       "      <td>3.2</td>\n",
       "      <td>4.7</td>\n",
       "      <td>1.4</td>\n",
       "      <td>1</td>\n",
       "      <td>versicolor</td>\n",
       "    </tr>\n",
       "    <tr>\n",
       "      <th>51</th>\n",
       "      <td>6.4</td>\n",
       "      <td>3.2</td>\n",
       "      <td>4.5</td>\n",
       "      <td>1.5</td>\n",
       "      <td>1</td>\n",
       "      <td>versicolor</td>\n",
       "    </tr>\n",
       "    <tr>\n",
       "      <th>52</th>\n",
       "      <td>6.9</td>\n",
       "      <td>3.1</td>\n",
       "      <td>4.9</td>\n",
       "      <td>1.5</td>\n",
       "      <td>1</td>\n",
       "      <td>versicolor</td>\n",
       "    </tr>\n",
       "    <tr>\n",
       "      <th>53</th>\n",
       "      <td>5.5</td>\n",
       "      <td>2.3</td>\n",
       "      <td>4.0</td>\n",
       "      <td>1.3</td>\n",
       "      <td>1</td>\n",
       "      <td>versicolor</td>\n",
       "    </tr>\n",
       "    <tr>\n",
       "      <th>54</th>\n",
       "      <td>6.5</td>\n",
       "      <td>2.8</td>\n",
       "      <td>4.6</td>\n",
       "      <td>1.5</td>\n",
       "      <td>1</td>\n",
       "      <td>versicolor</td>\n",
       "    </tr>\n",
       "  </tbody>\n",
       "</table>\n",
       "</div>"
      ],
      "text/plain": [
       "    sepal length (cm)  sepal width (cm)  petal length (cm)  petal width (cm)  \\\n",
       "50                7.0               3.2                4.7               1.4   \n",
       "51                6.4               3.2                4.5               1.5   \n",
       "52                6.9               3.1                4.9               1.5   \n",
       "53                5.5               2.3                4.0               1.3   \n",
       "54                6.5               2.8                4.6               1.5   \n",
       "\n",
       "    target flower_name  \n",
       "50       1  versicolor  \n",
       "51       1  versicolor  \n",
       "52       1  versicolor  \n",
       "53       1  versicolor  \n",
       "54       1  versicolor  "
      ]
     },
     "execution_count": 8,
     "metadata": {},
     "output_type": "execute_result"
    }
   ],
   "source": [
    "df[df.target==1].head()"
   ]
  },
  {
   "cell_type": "code",
   "execution_count": 9,
   "id": "cc093dac-902f-4517-8130-e71665b960c5",
   "metadata": {},
   "outputs": [
    {
     "data": {
      "text/html": [
       "<div>\n",
       "<style scoped>\n",
       "    .dataframe tbody tr th:only-of-type {\n",
       "        vertical-align: middle;\n",
       "    }\n",
       "\n",
       "    .dataframe tbody tr th {\n",
       "        vertical-align: top;\n",
       "    }\n",
       "\n",
       "    .dataframe thead th {\n",
       "        text-align: right;\n",
       "    }\n",
       "</style>\n",
       "<table border=\"1\" class=\"dataframe\">\n",
       "  <thead>\n",
       "    <tr style=\"text-align: right;\">\n",
       "      <th></th>\n",
       "      <th>sepal length (cm)</th>\n",
       "      <th>sepal width (cm)</th>\n",
       "      <th>petal length (cm)</th>\n",
       "      <th>petal width (cm)</th>\n",
       "      <th>target</th>\n",
       "      <th>flower_name</th>\n",
       "    </tr>\n",
       "  </thead>\n",
       "  <tbody>\n",
       "    <tr>\n",
       "      <th>100</th>\n",
       "      <td>6.3</td>\n",
       "      <td>3.3</td>\n",
       "      <td>6.0</td>\n",
       "      <td>2.5</td>\n",
       "      <td>2</td>\n",
       "      <td>virginica</td>\n",
       "    </tr>\n",
       "    <tr>\n",
       "      <th>101</th>\n",
       "      <td>5.8</td>\n",
       "      <td>2.7</td>\n",
       "      <td>5.1</td>\n",
       "      <td>1.9</td>\n",
       "      <td>2</td>\n",
       "      <td>virginica</td>\n",
       "    </tr>\n",
       "    <tr>\n",
       "      <th>102</th>\n",
       "      <td>7.1</td>\n",
       "      <td>3.0</td>\n",
       "      <td>5.9</td>\n",
       "      <td>2.1</td>\n",
       "      <td>2</td>\n",
       "      <td>virginica</td>\n",
       "    </tr>\n",
       "    <tr>\n",
       "      <th>103</th>\n",
       "      <td>6.3</td>\n",
       "      <td>2.9</td>\n",
       "      <td>5.6</td>\n",
       "      <td>1.8</td>\n",
       "      <td>2</td>\n",
       "      <td>virginica</td>\n",
       "    </tr>\n",
       "    <tr>\n",
       "      <th>104</th>\n",
       "      <td>6.5</td>\n",
       "      <td>3.0</td>\n",
       "      <td>5.8</td>\n",
       "      <td>2.2</td>\n",
       "      <td>2</td>\n",
       "      <td>virginica</td>\n",
       "    </tr>\n",
       "  </tbody>\n",
       "</table>\n",
       "</div>"
      ],
      "text/plain": [
       "     sepal length (cm)  sepal width (cm)  petal length (cm)  petal width (cm)  \\\n",
       "100                6.3               3.3                6.0               2.5   \n",
       "101                5.8               2.7                5.1               1.9   \n",
       "102                7.1               3.0                5.9               2.1   \n",
       "103                6.3               2.9                5.6               1.8   \n",
       "104                6.5               3.0                5.8               2.2   \n",
       "\n",
       "     target flower_name  \n",
       "100       2   virginica  \n",
       "101       2   virginica  \n",
       "102       2   virginica  \n",
       "103       2   virginica  \n",
       "104       2   virginica  "
      ]
     },
     "execution_count": 9,
     "metadata": {},
     "output_type": "execute_result"
    }
   ],
   "source": [
    "df[df.target==2].head()"
   ]
  },
  {
   "cell_type": "markdown",
   "id": "aac14175-ba9f-4bd7-a580-6425b6641096",
   "metadata": {},
   "source": [
    "<h1> DATA VISUALIZATION"
   ]
  },
  {
   "cell_type": "code",
   "execution_count": 10,
   "id": "2a117ccf-a2e2-44bd-91ef-906d73299a8e",
   "metadata": {},
   "outputs": [],
   "source": [
    "import matplotlib.pyplot as plt\n",
    "%matplotlib inline"
   ]
  },
  {
   "cell_type": "code",
   "execution_count": null,
   "id": "aaa924e3-79ac-4fed-872b-81b6c2fc7deb",
   "metadata": {},
   "outputs": [],
   "source": []
  },
  {
   "cell_type": "code",
   "execution_count": 11,
   "id": "8a88736f-7c4b-4f72-9b19-8c6a32f1892a",
   "metadata": {},
   "outputs": [
    {
     "data": {
      "text/plain": [
       "([<matplotlib.patches.Wedge at 0x7efe1ba7cb90>,\n",
       "  <matplotlib.patches.Wedge at 0x7efe1ba941d0>,\n",
       "  <matplotlib.patches.Wedge at 0x7efe1ba94710>],\n",
       " [Text(0.5499999702695115, 0.9526279613277875, 'Setosa'),\n",
       "  Text(-1.0999999999999954, -1.0298943258065002e-07, 'Versicolor'),\n",
       "  Text(0.5500001486524352, -0.9526278583383436, 'Virginica')])"
      ]
     },
     "execution_count": 11,
     "metadata": {},
     "output_type": "execute_result"
    },
    {
     "data": {
      "image/png": "[encoded data removed]",
      "text/plain": [
       "<Figure size 432x288 with 1 Axes>"
      ]
     },
     "metadata": {},
     "output_type": "display_data"
    }
   ],
   "source": [
    "length = [len(df[df.target==0]),len(df[df.target==1]),len(df[df.target==2])]\n",
    "plt.title(\"No of Data\")\n",
    "plt.pie(length , labels=[\"Setosa\", \"Versicolor\", \"Virginica\", ])"
   ]
  },
  {
   "cell_type": "code",
   "execution_count": 12,
   "id": "488a6942-19a8-4a8e-a638-2d198814e6d6",
   "metadata": {},
   "outputs": [],
   "source": [
    "df_setosa= df[:50]\n",
    "df_versicolor = df[50:100]\n",
    "df_virginica = df[100:]"
   ]
  },
  {
   "cell_type": "markdown",
   "id": "ad74805f-ce53-4dea-a3f2-8cb173088343",
   "metadata": {},
   "source": [
    "<h2> Scatter Plot of with different parameter"
   ]
  },
  {
   "cell_type": "code",
   "execution_count": 13,
   "id": "087b6573-f2aa-4017-8186-7aabf4cf3522",
   "metadata": {},
   "outputs": [
    {
     "data": {
      "text/plain": [
       "<matplotlib.legend.Legend at 0x7efe1b977250>"
      ]
     },
     "execution_count": 13,
     "metadata": {},
     "output_type": "execute_result"
    },
    {
     "data": {
      "image/png": "[encoded data removed]",
      "text/plain": [
       "<Figure size 432x288 with 1 Axes>"
      ]
     },
     "metadata": {
      "needs_background": "light"
     },
     "output_type": "display_data"
    }
   ],
   "source": [
    "plt.xlabel('Sepal Length')\n",
    "plt.ylabel('Sepal Width')\n",
    "plt.scatter(df_setosa['sepal length (cm)'], df_setosa['sepal width (cm)'],color=\"green\",marker='+')\n",
    "plt.scatter(df_versicolor['sepal length (cm)'], df_versicolor['sepal width (cm)'],color=\"blue\",marker='.')\n",
    "plt.scatter(df_virginica['sepal length (cm)'],df_virginica['sepal width (cm)'],color=\"red\",marker='*')\n",
    "plt.legend([\"setosa\", \"versicolor\", \"virginica\"], loc =\"lower right\")"
   ]
  },
  {
   "cell_type": "code",
   "execution_count": 14,
   "id": "3401c714-a901-493d-a252-c9ae987cf198",
   "metadata": {},
   "outputs": [
    {
     "data": {
      "text/plain": [
       "<matplotlib.legend.Legend at 0x7efe1b85f250>"
      ]
     },
     "execution_count": 14,
     "metadata": {},
     "output_type": "execute_result"
    },
    {
     "data": {
      "image/png": "[encoded data removed]",
      "text/plain": [
       "<Figure size 432x288 with 1 Axes>"
      ]
     },
     "metadata": {
      "needs_background": "light"
     },
     "output_type": "display_data"
    }
   ],
   "source": [
    "plt.xlabel('Petal Length')\n",
    "plt.ylabel('Petal Width')\n",
    "plt.scatter(df_setosa['petal length (cm)'], df_setosa['petal width (cm)'],color=\"green\",marker='+')\n",
    "plt.scatter(df_versicolor['petal length (cm)'], df_versicolor['petal width (cm)'],color=\"blue\",marker='.')\n",
    "plt.scatter(df_virginica['petal length (cm)'], df_virginica['petal width (cm)'],color=\"red\",marker='*')\n",
    "plt.legend([\"setosa\",\"versicolor\", \"virginica\"], loc =\"lower right\")"
   ]
  },
  {
   "cell_type": "code",
   "execution_count": 15,
   "id": "90237c9e-e34f-49eb-a25c-8277c3880e01",
   "metadata": {},
   "outputs": [
    {
     "data": {
      "text/plain": [
       "<matplotlib.legend.Legend at 0x7efe1b88e910>"
      ]
     },
     "execution_count": 15,
     "metadata": {},
     "output_type": "execute_result"
    },
    {
     "data": {
      "image/png": "[encoded data removed]",
      "text/plain": [
       "<Figure size 432x288 with 1 Axes>"
      ]
     },
     "metadata": {
      "needs_background": "light"
     },
     "output_type": "display_data"
    }
   ],
   "source": [
    "plt.xlabel('Petal Length')\n",
    "plt.ylabel('Petal Width')\n",
    "plt.scatter(df_versicolor['petal length (cm)'], df_versicolor['petal width (cm)'],color=\"blue\",marker='.')\n",
    "plt.scatter(df_virginica['petal length (cm)'], df_virginica['petal width (cm)'],color=\"red\",marker='*')\n",
    "plt.legend([\"versicolor\", \"virginica\"], loc =\"lower right\")"
   ]
  },
  {
   "cell_type": "markdown",
   "id": "35809683-bee4-4c8a-beb9-5507c86d9cab",
   "metadata": {},
   "source": [
    "<h2> Box Plot of with different parameter"
   ]
  },
  {
   "cell_type": "code",
   "execution_count": 16,
   "id": "8488eb6d-a830-4fcb-a0f4-ac658502f54e",
   "metadata": {},
   "outputs": [
    {
     "data": {
      "text/plain": [
       "{'whiskers': [<matplotlib.lines.Line2D at 0x7efe1b5d3850>,\n",
       "  <matplotlib.lines.Line2D at 0x7efe1b5d3c90>,\n",
       "  <matplotlib.lines.Line2D at 0x7efe1b56d6d0>,\n",
       "  <matplotlib.lines.Line2D at 0x7efe1b56dad0>,\n",
       "  <matplotlib.lines.Line2D at 0x7efe1b5834d0>,\n",
       "  <matplotlib.lines.Line2D at 0x7efe1b583950>],\n",
       " 'caps': [<matplotlib.lines.Line2D at 0x7efe1b560110>,\n",
       "  <matplotlib.lines.Line2D at 0x7efe1b560550>,\n",
       "  <matplotlib.lines.Line2D at 0x7efe1b56df10>,\n",
       "  <matplotlib.lines.Line2D at 0x7efe1b579390>,\n",
       "  <matplotlib.lines.Line2D at 0x7efe1b583d90>,\n",
       "  <matplotlib.lines.Line2D at 0x7efe1b58e250>],\n",
       " 'boxes': [<matplotlib.lines.Line2D at 0x7efe1b5d3590>,\n",
       "  <matplotlib.lines.Line2D at 0x7efe1b56d290>,\n",
       "  <matplotlib.lines.Line2D at 0x7efe1b583050>],\n",
       " 'medians': [<matplotlib.lines.Line2D at 0x7efe1b5609d0>,\n",
       "  <matplotlib.lines.Line2D at 0x7efe1b5797d0>,\n",
       "  <matplotlib.lines.Line2D at 0x7efe1b58e690>],\n",
       " 'fliers': [<matplotlib.lines.Line2D at 0x7efe1b560e10>,\n",
       "  <matplotlib.lines.Line2D at 0x7efe1b579c10>,\n",
       "  <matplotlib.lines.Line2D at 0x7efe1b58ead0>],\n",
       " 'means': []}"
      ]
     },
     "execution_count": 16,
     "metadata": {},
     "output_type": "execute_result"
    },
    {
     "data": {
      "image/png": "[encoded data removed]",
      "text/plain": [
       "<Figure size 720x432 with 2 Axes>"
      ]
     },
     "metadata": {},
     "output_type": "display_data"
    },
    {
     "data": {
      "image/png": "[encoded data removed]",
      "text/plain": [
       "<Figure size 720x432 with 2 Axes>"
      ]
     },
     "metadata": {},
     "output_type": "display_data"
    }
   ],
   "source": [
    "df_setosa_s = df_setosa['sepal length (cm)']\n",
    "df_versicolor_s= df_versicolor['sepal length (cm)']\n",
    "df_virginica_s = df_virginica['sepal length (cm)']\n",
    "plt.figure(1,figsize=[10.0,6.0],facecolor=\"orange\")\n",
    "plt.subplot(1,2,1)\n",
    "plt.ylabel('sepal Length')\n",
    "plt.boxplot([df_setosa_s,df_versicolor_s,df_virginica_s], labels=['setosa', 'versicolor','virginica'])\n",
    "\n",
    "#------------------------------------------\n",
    "df_setosa_s = df_setosa['sepal width (cm)']\n",
    "df_versicolor_s= df_versicolor['sepal width (cm)']\n",
    "df_virginica_s = df_virginica['sepal width (cm)']\n",
    "plt.subplot(1,2,2)\n",
    "plt.ylabel('sepal width')\n",
    "plt.boxplot([df_setosa_s,df_versicolor_s,df_virginica_s], labels=['setosa', 'versicolor','virginica'])\n",
    "\n",
    "#-----------------------------------------\n",
    "\n",
    "df_setosa_s = df_setosa['sepal width (cm)']\n",
    "df_versicolor_s= df_versicolor['sepal width (cm)']\n",
    "df_virginica_s = df_virginica['sepal width (cm)']\n",
    "plt.figure(2,figsize=[10.0,6.0],facecolor=\"green\")\n",
    "plt.subplot(1,2,1)\n",
    "plt.ylabel('sepal width')\n",
    "plt.boxplot([df_setosa_s,df_versicolor_s,df_virginica_s], labels=['setosa', 'versicolor','virginica'])\n",
    "\n",
    "#--------------------------------------------\n",
    "\n",
    "df_setosa_p = df_setosa['petal length (cm)']\n",
    "df_versicolor_p= df_versicolor['petal length (cm)']\n",
    "df_virginica_p = df_virginica['petal length (cm)']\n",
    "plt.subplot(1,2,2)\n",
    "plt.ylabel('petal Length')\n",
    "plt.boxplot([df_setosa_s,df_versicolor_s,df_virginica_s], labels=['setosa', 'versicolor','virginica'])"
   ]
  },
  {
   "cell_type": "markdown",
   "id": "7419f7fe-396f-49d0-90d5-26d21200fb6e",
   "metadata": {},
   "source": [
    "<h2> Correlation heat plot"
   ]
  },
  {
   "cell_type": "code",
   "execution_count": null,
   "id": "4720287c-0455-458a-bbeb-52d3ec2b0839",
   "metadata": {},
   "outputs": [],
   "source": [
    "import seaborn as sns\n",
    "plt.figure(1,figsize=[8.0,5.0],facecolor=\"orange\")\n",
    "corr = df.corr()\n",
    "sns.heatmap(corr, \n",
    "            xticklabels=corr.columns.values,\n",
    "            yticklabels=corr.columns.values)\n"
   ]
  },
  {
   "cell_type": "code",
   "execution_count": null,
   "id": "74f84bbd-096d-446f-a604-4df00673ca23",
   "metadata": {},
   "outputs": [],
   "source": [
    "df.head()"
   ]
  },
  {
   "cell_type": "code",
   "execution_count": null,
   "id": "ee44db88-e4ef-4a4c-b305-1b8e2910dfd4",
   "metadata": {},
   "outputs": [],
   "source": [
    "iris = df.drop(columns = ['target','flower_name'])\n",
    "g = sns.jointplot(x=\"sepal length (cm)\", y=\"sepal width (cm)\", data=iris, kind=\"kde\", color=\"m\")\n",
    "g.plot_joint(plt.scatter, c=\"w\", s=40, linewidth=1, marker=\"+\")\n",
    "g.ax_joint.collections[0].set_alpha(0)\n",
    "g.set_axis_labels(\"$SepalLength(Cm)$\", \"$SepalWidth(Cm)$\") \n",
    "plt.show()"
   ]
  },
  {
   "cell_type": "code",
   "execution_count": null,
   "id": "5df97166-7dbe-4eae-b6b4-e280b3fcda89",
   "metadata": {},
   "outputs": [],
   "source": [
    "X = df.drop(['target','flower_name'], axis='columns')\n",
    "y = df.target"
   ]
  },
  {
   "cell_type": "code",
   "execution_count": null,
   "id": "5d27c9f0-2123-4c4f-be1a-f894b47e4b07",
   "metadata": {},
   "outputs": [],
   "source": [
    "from sklearn.model_selection import train_test_split"
   ]
  },
  {
   "cell_type": "code",
   "execution_count": null,
   "id": "e58e576c-4e0b-4408-8778-71be9b39e411",
   "metadata": {},
   "outputs": [],
   "source": [
    "\n"
   ]
  },
  {
   "cell_type": "code",
   "execution_count": null,
   "id": "027d4ade-99da-4bcd-918c-8f45e4cae286",
   "metadata": {},
   "outputs": [],
   "source": [
    "X_train, X_test, y_train, y_test = train_test_split(X, y, test_size=0.3)"
   ]
  },
  {
   "cell_type": "code",
   "execution_count": null,
   "id": "0e49d56e-19c8-47e0-abef-ab77702553b2",
   "metadata": {},
   "outputs": [],
   "source": [
    "len(X_train), len(X_test)"
   ]
  },
  {
   "cell_type": "markdown",
   "id": "553a72e7-47a3-4bda-a2fa-d5c1067729f4",
   "metadata": {},
   "source": [
    "<h1>Support Vector Machine (SVM)\n",
    "<h5> A Support Vector Machine is a supervised machine learning algorithm which can be used for both classification and regression problems. It follows a technique called the kernel trick to transform the data and based on these transformations, it finds an optimal boundary between the possible outputs."
   ]
  },
  {
   "cell_type": "code",
   "execution_count": null,
   "id": "374d3fc6-198c-4a43-90f5-0369bffb6dca",
   "metadata": {},
   "outputs": [],
   "source": [
    "from sklearn.svm import SVC\n",
    "model = SVC(gamma='auto')"
   ]
  },
  {
   "cell_type": "code",
   "execution_count": null,
   "id": "5d77c875-5e1d-485c-a4a1-d5d66ec6d027",
   "metadata": {},
   "outputs": [],
   "source": [
    "model.fit(X_train, y_train,)"
   ]
  },
  {
   "cell_type": "code",
   "execution_count": null,
   "id": "110bccdb-5f29-478d-b127-be343e1ca14b",
   "metadata": {},
   "outputs": [],
   "source": [
    "print('The accuracy of the SVM is',model.score(X_test, y_test),'with gamma and c value is Auto')"
   ]
  },
  {
   "cell_type": "markdown",
   "id": "9a989aad-0f24-437a-8d9e-3084607f33f2",
   "metadata": {},
   "source": [
    "<h3>'C' is a hypermeter which is set before the training model and used to control error.\n",
    " <h3>   'Gamma' is also a hypermeter which is set before the training model and used to give curvature weight of the decision boundary."
   ]
  },
  {
   "cell_type": "code",
   "execution_count": null,
   "id": "db310666-f242-486d-90cb-6d3e607fc312",
   "metadata": {},
   "outputs": [],
   "source": [
    "model_C = SVC(C=10,gamma='auto')\n",
    "model_C.fit(X_train, y_train)\n"
   ]
  },
  {
   "cell_type": "code",
   "execution_count": null,
   "id": "741f1fa0-1b27-41f5-aa43-e99059b3e056",
   "metadata": {},
   "outputs": [],
   "source": [
    "model_C = SVC(C=1,gamma='auto')\n",
    "model_C.fit(X_train, y_train)\n",
    "print('The accuracy of the SVM is',model_C.score(X_test, y_test),'with gamma value is Auto and C value is 1')\n",
    "\n",
    "model_C = SVC(C=10,gamma='auto')\n",
    "model_C.fit(X_train, y_train)\n",
    "print('The accuracy of the SVM is',model_C.score(X_test, y_test),'with gamma value is Auto and C value is 10')"
   ]
  },
  {
   "cell_type": "code",
   "execution_count": null,
   "id": "e77f5124-dc56-4db6-9752-811af3f05198",
   "metadata": {},
   "outputs": [],
   "source": []
  },
  {
   "cell_type": "code",
   "execution_count": null,
   "id": "1bb4b93b-a292-40d6-88aa-bb6976443b75",
   "metadata": {},
   "outputs": [],
   "source": [
    "acc_SVM = [0] * 11\n",
    "k=[2,3,4,5,6,7,8,9,10,15,20]\n",
    "j=0;\n",
    "for i in k:\n",
    "        model_C_1 = SVC(C=i,gamma='auto')\n",
    "        model_C_1.fit(X, y)\n",
    "        acc_SVM[j]=model_C_1.score(X_test, y_test)\n",
    "        j=j+1;"
   ]
  },
  {
   "cell_type": "code",
   "execution_count": null,
   "id": "f2fc0bc3-7c52-4c20-8d58-5f923ddcc9e1",
   "metadata": {},
   "outputs": [],
   "source": [
    "plt.figure(1,figsize=[10.0,6.0],facecolor=\"violet\")\n",
    "plt.ylabel('Accuracy')\n",
    "plt.xlabel('Value of C: ')\n",
    "plt.title('SVM Accuracy graph wrt. different value of C')\n",
    "plt.plot(k,acc_SVM,color=\"blue\",linewidth=2, markersize=12,)"
   ]
  },
  {
   "cell_type": "code",
   "execution_count": null,
   "id": "e91f0553-b5fb-4973-b79e-91cf044e84e7",
   "metadata": {},
   "outputs": [],
   "source": [
    "model_g = SVC(gamma=10)\n",
    "model_g.fit(X_train, y_train)\n",
    "print('The accuracy of the SVM is',model_g.score(X_test, y_test),'with gamma value is 7 and C value is auto.')\n",
    "\n",
    "\n",
    "model_g = SVC(gamma=1)\n",
    "model_g.fit(X_train, y_train)\n",
    "print('The accuracy of the SVM is',model_g.score(X_test, y_test),'with gamma value is 1 and C value is auto.')"
   ]
  },
  {
   "cell_type": "code",
   "execution_count": null,
   "id": "844ef86a-3163-49fa-8bb0-40c332cd9cb9",
   "metadata": {},
   "outputs": [],
   "source": [
    "model_linear_kernal = SVC(kernel='rbf',gamma='auto')\n",
    "model_linear_kernal.fit(X_train, y_train)\n",
    "\n",
    "print('The accuracy of the SVM is',model_linear_kernal.score(X_test, y_test),'kernal=rbf')"
   ]
  },
  {
   "cell_type": "markdown",
   "id": "5aa1e31d-98a1-473e-bd82-df07d4598f9d",
   "metadata": {},
   "source": [
    "<h1>K-Nearest Neighbors (KNN) \n",
    "\n",
    "<h5> KNN is a non-parametric and lazy learning algorithm. Non-parametric means there is no assumption for underlying data distribution. In other words, the model structure determined from the dataset. "
   ]
  },
  {
   "cell_type": "code",
   "execution_count": null,
   "id": "24b680ee-6801-401b-b4b9-a6ba728f9a00",
   "metadata": {},
   "outputs": [],
   "source": [
    "from sklearn.neighbors import KNeighborsClassifier\n"
   ]
  },
  {
   "cell_type": "code",
   "execution_count": null,
   "id": "4024735c-9081-484c-9bc7-1207d7e8886b",
   "metadata": {},
   "outputs": [],
   "source": [
    "neigh = KNeighborsClassifier(n_neighbors=2)\n",
    "neigh.fit(X, y)\n",
    "neigh.score(X_test, y_test)\n",
    "print('The accuracy of the KNN is',neigh.score(X_test, y_test),'WHERE n_neighbors=2')"
   ]
  },
  {
   "cell_type": "code",
   "execution_count": null,
   "id": "e6e3948b-fabb-4f6f-86a2-bd806c026839",
   "metadata": {},
   "outputs": [],
   "source": [
    "\n",
    "acc = [0] * 5\n",
    "k=[2,3,4,5,6]\n",
    "for i in k:\n",
    "        neigh = KNeighborsClassifier(n_neighbors=i)\n",
    "        neigh.fit(X, y)\n",
    "        acc[i-2]=neigh.score(X_test, y_test)"
   ]
  },
  {
   "cell_type": "code",
   "execution_count": null,
   "id": "df968471-971c-4832-86a5-45dddce9e6d1",
   "metadata": {},
   "outputs": [],
   "source": [
    "acc"
   ]
  },
  {
   "cell_type": "markdown",
   "id": "d6466309-4c1e-4b23-8972-32d36078222a",
   "metadata": {},
   "source": [
    "<h2> KNN accuracy plot for different value of n_neighbors"
   ]
  },
  {
   "cell_type": "code",
   "execution_count": null,
   "id": "ff3cab42-bee7-4d52-a14f-5bbae4d35bb9",
   "metadata": {},
   "outputs": [],
   "source": [
    "plt.figure(1,figsize=[10.0,6.0],facecolor=\"orange\")\n",
    "plt.ylabel('Accuracy')\n",
    "plt.xlabel('Value of K: ')\n",
    "plt.title('KNN Accuracy graph wrt. different value of K ')\n",
    "plt.plot(k,acc,color=\"blue\",linewidth=2, markersize=12,)"
   ]
  },
  {
   "cell_type": "markdown",
   "id": "06b9b17a-301f-4887-a2af-0663b89da687",
   "metadata": {},
   "source": [
    "<h1>Decision Trees (DTs) \n",
    "<h5>Treesare a non-parametric supervised learning method used for classification and regression. The goal is to create a model that predicts the value of a target variable by learning simple decision rules inferred from the data features. A tree can be seen as a piecewise constant approximation."
   ]
  },
  {
   "cell_type": "code",
   "execution_count": null,
   "id": "07bc5477-dc48-4ca6-9d37-05cb03e6ef0e",
   "metadata": {},
   "outputs": [],
   "source": [
    "pip install --upgrade sklearn"
   ]
  },
  {
   "cell_type": "code",
   "execution_count": null,
   "id": "95e9a100-2a4a-47e8-9229-2919c75c4a93",
   "metadata": {},
   "outputs": [],
   "source": [
    "import sklearn\n",
    "from sklearn.tree import DecisionTreeClassifier\n",
    "import matplotlib.image as mpimg\n",
    "from sklearn import tree\n",
    "from sklearn import metrics\n",
    "from sklearn.metrics import classification_report, confusion_matrix"
   ]
  },
  {
   "cell_type": "code",
   "execution_count": null,
   "id": "fff35978-398a-400a-9ab5-0916103747d9",
   "metadata": {},
   "outputs": [],
   "source": [
    "pip install --upgrade scikit-learn"
   ]
  },
  {
   "cell_type": "code",
   "execution_count": null,
   "id": "c2ee3bb9-6111-461a-9313-c779e5222a70",
   "metadata": {},
   "outputs": [],
   "source": [
    "dtree=DecisionTreeClassifier(max_depth=3)"
   ]
  },
  {
   "cell_type": "code",
   "execution_count": null,
   "id": "115a942c-14eb-48b5-aa0f-c94b3837d7f5",
   "metadata": {},
   "outputs": [],
   "source": [
    "clf = dtree.fit(X,y)"
   ]
  },
  {
   "cell_type": "code",
   "execution_count": null,
   "id": "ef2fd688-ed7b-4b90-9aa9-98678d2dbe6a",
   "metadata": {},
   "outputs": [],
   "source": [
    "predTree = clf.predict(X_test)\n",
    "print(\"Accuracy with depth of 3:\",metrics.accuracy_score(y_test, predTree))"
   ]
  },
  {
   "cell_type": "code",
   "execution_count": null,
   "id": "926bb577-8ecc-4c52-9ca9-421b54d3d69a",
   "metadata": {},
   "outputs": [],
   "source": [
    "acc_dt = [0] * 5\n",
    "k=[2,3,4,5,6]\n",
    "for i in k:\n",
    "        DT = dtree=DecisionTreeClassifier(max_depth=i)\n",
    "        DT.fit(X, y)\n",
    "        acc_dt[i-2]=DT.score(X_test, y_test)"
   ]
  },
  {
   "cell_type": "code",
   "execution_count": null,
   "id": "ff488906-9f9c-4e55-becd-507d61711ca0",
   "metadata": {},
   "outputs": [],
   "source": [
    "plt.figure(1,figsize=[10.0,6.0],facecolor=\"green\")\n",
    "plt.ylabel('Accuracy')\n",
    "plt.xlabel('max_depth: ')\n",
    "plt.title('Design Tree Accuracy graph wrt. different value of max_depth ')\n",
    "plt.plot(k,acc_dt,color=\"blue\",linewidth=2, markersize=12,)"
   ]
  },
  {
   "cell_type": "code",
   "execution_count": null,
   "id": "a88b8369-c4e8-4688-8f0a-5fa2aa97add0",
   "metadata": {},
   "outputs": [],
   "source": [
    "sklearn_version = sklearn.__version__\n",
    "print(sklearn_version)"
   ]
  },
  {
   "cell_type": "code",
   "execution_count": null,
   "id": "1e818853-4f74-44ac-ad30-033a26c8dadb",
   "metadata": {},
   "outputs": [],
   "source": [
    "from sklearn.tree import plot_tree"
   ]
  },
  {
   "cell_type": "code",
   "execution_count": null,
   "id": "e9a9aec2-3f17-4c41-8782-c8b842a127a2",
   "metadata": {},
   "outputs": [],
   "source": [
    "# fig = clf.fit(X,y)\n",
    "# tree.plot_tree(clf)\n",
    "# plt.show()"
   ]
  },
  {
   "cell_type": "markdown",
   "id": "bcda38d4-e97c-435e-9c4b-063fb4e9b950",
   "metadata": {},
   "source": [
    "<h2> Design tree visualization using plot"
   ]
  },
  {
   "cell_type": "code",
   "execution_count": null,
   "id": "1e1a85d2-3b39-4c3b-9749-e7d8edb40ff0",
   "metadata": {},
   "outputs": [],
   "source": [
    "fig = plt.figure(figsize=(20,15))\n",
    "_ = tree.plot_tree(clf, \n",
    "                   feature_names=iris.feature_names,  \n",
    "                   class_names=iris.target_names,\n",
    "                   filled=True)"
   ]
  },
  {
   "cell_type": "markdown",
   "id": "5d2452d3-34e9-42f0-a7e5-3191cf874149",
   "metadata": {},
   "source": [
    "<h1>Logistic Regression\n",
    "<h5>Logistic regression is a statistical method for predicting binary classes. The outcome or target variable is dichotomous in nature. Dichotomous means there are only two possible classes. For example, it can be used for cancer detection problems. It computes the probability of an event occurrence."
   ]
  },
  {
   "cell_type": "code",
   "execution_count": null,
   "id": "7d6acce9-bafb-4c14-988c-94398719ca32",
   "metadata": {},
   "outputs": [],
   "source": [
    "from sklearn.linear_model import LogisticRegression"
   ]
  },
  {
   "cell_type": "code",
   "execution_count": null,
   "id": "1173e418-e96b-4949-8642-db58f94d4879",
   "metadata": {},
   "outputs": [],
   "source": [
    "model = LogisticRegression()\n",
    "model.fit(X,y)\n",
    "prediction=model.predict(X_test)\n",
    "print('The accuracy of the Logistic Regression is',metrics.accuracy_score(prediction,y_test))"
   ]
  },
  {
   "cell_type": "code",
   "execution_count": null,
   "id": "b4ac2128-5171-4625-abb9-e196cfd5aa03",
   "metadata": {},
   "outputs": [],
   "source": []
  }
 ],
 "metadata": {
  "kernelspec": {
   "display_name": "Python",
   "language": "python",
   "name": "conda-env-python-py"
  },
  "language_info": {
   "codemirror_mode": {
    "name": "ipython",
    "version": 3
   },
   "file_extension": ".py",
   "mimetype": "text/x-python",
   "name": "python",
   "nbconvert_exporter": "python",
   "pygments_lexer": "ipython3",
   "version": "3.7.10"
  }
 },
 "nbformat": 4,
 "nbformat_minor": 5
}
